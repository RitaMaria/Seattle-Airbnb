{
 "cells": [
  {
   "attachments": {},
   "cell_type": "markdown",
   "metadata": {},
   "source": [
    "# IPAI SQL "
   ]
  },
  {
   "cell_type": "code",
   "execution_count": 1,
   "metadata": {
    "ExecuteTime": {
     "end_time": "2023-05-28T10:57:48.038361100Z",
     "start_time": "2023-05-28T10:57:40.805078900Z"
    }
   },
   "outputs": [],
   "source": [
    "#imports\n",
    "import pandas as pd\n",
    "from pathlib import Path\n",
    "import psycopg2"
   ]
  },
  {
   "attachments": {},
   "cell_type": "markdown",
   "metadata": {},
   "source": [
    "## Connect to DB"
   ]
  },
  {
   "cell_type": "code",
   "execution_count": 2,
   "metadata": {
    "ExecuteTime": {
     "end_time": "2023-05-28T10:57:56.848746800Z",
     "start_time": "2023-05-28T10:57:56.719741300Z"
    }
   },
   "outputs": [],
   "source": [
    "# being connected to wifi using fcul vpn\n",
    "connection = psycopg2.connect(\n",
    "database=\"ipai06\",\n",
    "user=\"ipai06\",\n",
    "password=\"ipai06\",\n",
    "host=\"appserver-01.alunos.di.fc.ul.pt\",\n",
    "port= '5432'\n",
    ")\n",
    "\n",
    "cursor = connection.cursor()"
   ]
  },
  {
   "cell_type": "code",
   "execution_count": 3,
   "metadata": {
    "ExecuteTime": {
     "end_time": "2023-05-28T10:57:59.906466500Z",
     "start_time": "2023-05-28T10:57:59.866470900Z"
    }
   },
   "outputs": [],
   "source": [
    "folder_path = 'dimensional_modeling'\n",
    "folder = Path(folder_path)\n",
    "\n",
    "filesList = []\n",
    "# Iterate over the files in the folder\n",
    "for file_path in folder.iterdir():\n",
    "    if file_path.is_file():\n",
    "        # Process the file\n",
    "        filesList.append(file_path)"
   ]
  },
  {
   "cell_type": "code",
   "execution_count": 4,
   "metadata": {
    "ExecuteTime": {
     "end_time": "2023-05-28T10:58:00.875552900Z",
     "start_time": "2023-05-28T10:58:00.803028200Z"
    }
   },
   "outputs": [],
   "source": [
    "def createDIMTableSQL(df,fileName):\n",
    "    tableName = fileName.split('.')[0]\n",
    "    colNames = df.keys()\n",
    "    createTabCmd = 'CREATE TABLE IF NOT EXISTS ' + tableName + ' ('\n",
    "    \n",
    "    for colName in colNames:\n",
    "        if 'PK' in colName:\n",
    "            substr = colName + ' INT PRIMARY KEY, '\n",
    "        else:\n",
    "            dtype = str(df[colName].dtypes)\n",
    "            if 'int' in dtype:\n",
    "                substr = colName + ' INT, '\n",
    "            elif 'float' in dtype:\n",
    "                substr = colName + ' REAL, '\n",
    "            else:\n",
    "                substr = colName + ' VARCHAR(255), '\n",
    "        \n",
    "        createTabCmd+= substr\n",
    "\n",
    "    createTabCmd = createTabCmd[:-2]\n",
    "    createTabCmd += \");\"\n",
    "    #return string\n",
    "\n",
    "    return createTabCmd"
   ]
  },
  {
   "cell_type": "code",
   "execution_count": 5,
   "outputs": [],
   "source": [
    "def createFactTableSQL(df, fileName):\n",
    "    tableName = fileName.split('.')[0]\n",
    "    colNames = df.keys()\n",
    "    createTabCmd = 'CREATE TABLE IF NOT EXISTS ' + tableName + ' ('\n",
    "\n",
    "    for colName in colNames:\n",
    "        if 'PK' in colName:\n",
    "            substr = colName + ' INT PRIMARY KEY, '\n",
    "        elif 'FK' in colName:\n",
    "            substr = colName + ' INT REFERENCES '\n",
    "            if 'nightPrice' in colName:\n",
    "                substr += 'dimPriceAndBooking(nightPricePK), '\n",
    "            elif 'street' in colName:\n",
    "                substr += 'dimLocation(streetPK), '\n",
    "            elif 'customer' in colName:\n",
    "                substr += 'dim'+colName[:-2]+'(reviewerPK), '\n",
    "            else:\n",
    "                tableName =colName[:-2]\n",
    "                pkColName = tableName+'PK'\n",
    "                substr += 'dim'+tableName+'('+pkColName+'), '\n",
    "        else:\n",
    "            substr = colName + ' REAL NOT NULL, '\n",
    "\n",
    "        createTabCmd+= substr\n",
    "\n",
    "    createTabCmd = createTabCmd[:-2]\n",
    "    createTabCmd += \");\"\n",
    "\n",
    "    return createTabCmd\n"
   ],
   "metadata": {
    "collapsed": false,
    "ExecuteTime": {
     "end_time": "2023-05-28T10:58:01.762327800Z",
     "start_time": "2023-05-28T10:58:01.704326400Z"
    }
   }
  },
  {
   "cell_type": "code",
   "execution_count": 6,
   "outputs": [],
   "source": [
    "def insertValuesIntoTableSQL(df, fileName):\n",
    "    tableName = fileName.split('.')[0]\n",
    "    insertValuesCmd = \"INSERT INTO \" + tableName + \" values \"\n",
    "    listDF = list(df.itertuples(index=False, name=None))\n",
    "    for item in listDF:\n",
    "        itemStr = str(item)\n",
    "        insertValuesCmd += itemStr + ', '\n",
    "    insertValuesCmd = insertValuesCmd[:-2]\n",
    "    insertValuesCmd += \";\"\n",
    "    return insertValuesCmd"
   ],
   "metadata": {
    "collapsed": false,
    "ExecuteTime": {
     "end_time": "2023-05-28T10:58:02.643426800Z",
     "start_time": "2023-05-28T10:58:02.571424900Z"
    }
   }
  },
  {
   "cell_type": "code",
   "execution_count": 7,
   "outputs": [],
   "source": [
    "def dimToSQL(file):\n",
    "    df = pd.read_csv(file)\n",
    "    table = createDIMTableSQL(df, file.name)\n",
    "    cursor.execute(table)\n",
    "    connection.commit()\n",
    "    insertTable = insertValuesIntoTableSQL(df, file.name)\n",
    "    cursor.execute(insertTable)\n",
    "    connection.commit()\n"
   ],
   "metadata": {
    "collapsed": false,
    "ExecuteTime": {
     "end_time": "2023-05-28T10:58:03.338525600Z",
     "start_time": "2023-05-28T10:58:03.275004600Z"
    }
   }
  },
  {
   "cell_type": "code",
   "execution_count": 8,
   "outputs": [],
   "source": [
    "def factToSQL(file):\n",
    "    df = pd.read_csv(file)\n",
    "    table = createFactTableSQL(df, file.name)\n",
    "    cursor.execute(table)\n",
    "    connection.commit()\n",
    "    insertTable = insertValuesIntoTableSQL(df, file.name)\n",
    "    cursor.execute(insertTable)\n",
    "    connection.commit()"
   ],
   "metadata": {
    "collapsed": false,
    "ExecuteTime": {
     "end_time": "2023-05-28T10:58:04.268950300Z",
     "start_time": "2023-05-28T10:58:04.236290500Z"
    }
   }
  },
  {
   "cell_type": "code",
   "execution_count": 20,
   "outputs": [
    {
     "name": "stdout",
     "output_type": "stream",
     "text": [
      "dimensional_modeling\\dimAmenities.csv\n",
      "dimensional_modeling\\dimCustomer.csv\n",
      "dimensional_modeling\\dimDate.csv\n",
      "dimensional_modeling\\dimFacilities.csv\n",
      "dimensional_modeling\\dimHost.csv\n",
      "dimensional_modeling\\dimLocation.csv\n",
      "dimensional_modeling\\dimPriceAndBooking.csv\n",
      "dimensional_modeling\\dimProperty.csv\n",
      "dimensional_modeling\\dimWeather.csv\n",
      "dimensional_modeling\\staysFact.csv\n"
     ]
    }
   ],
   "source": [
    "connection.rollback()\n",
    "for filePath in filesList:\n",
    "    print(filePath)\n",
    "    fileName = filePath.name\n",
    "    if 'dim' in fileName:\n",
    "        dimToSQL(filePath)\n",
    "    elif 'Fact' in fileName:\n",
    "        factToSQL(filePath)"
   ],
   "metadata": {
    "collapsed": false,
    "ExecuteTime": {
     "end_time": "2023-05-25T16:01:42.311138300Z",
     "start_time": "2023-05-25T16:01:21.264826800Z"
    }
   }
  },
  {
   "cell_type": "code",
   "execution_count": 21,
   "outputs": [],
   "source": [
    "\n",
    "alterSQL = 'ALTER TABLE dimfacilities ADD CONSTRAINT fk_facilities_amenities FOREIGN KEY (amenitiesfk) REFERENCES dimamenities (amenitiespk);'\n",
    "cursor.execute(alterSQL)\n",
    "connection.commit()"
   ],
   "metadata": {
    "collapsed": false,
    "ExecuteTime": {
     "end_time": "2023-05-25T16:02:36.203977400Z",
     "start_time": "2023-05-25T16:02:36.115938500Z"
    }
   }
  },
  {
   "cell_type": "code",
   "execution_count": 4,
   "outputs": [
    {
     "ename": "DuplicateTable",
     "evalue": "relation \"month_index\" already exists\n",
     "output_type": "error",
     "traceback": [
      "\u001B[1;31m---------------------------------------------------------------------------\u001B[0m",
      "\u001B[1;31mDuplicateTable\u001B[0m                            Traceback (most recent call last)",
      "Input \u001B[1;32mIn [4]\u001B[0m, in \u001B[0;36m<module>\u001B[1;34m\u001B[0m\n\u001B[0;32m      1\u001B[0m \u001B[38;5;66;03m# b+ index\u001B[39;00m\n\u001B[0;32m      2\u001B[0m bPlus_idx \u001B[38;5;241m=\u001B[39m \u001B[38;5;124m'\u001B[39m\u001B[38;5;124mCREATE INDEX month_index ON dimdate USING btree (month);\u001B[39m\u001B[38;5;124m'\u001B[39m\n\u001B[1;32m----> 3\u001B[0m \u001B[43mcursor\u001B[49m\u001B[38;5;241;43m.\u001B[39;49m\u001B[43mexecute\u001B[49m\u001B[43m(\u001B[49m\u001B[43mbPlus_idx\u001B[49m\u001B[43m)\u001B[49m\n\u001B[0;32m      4\u001B[0m connection\u001B[38;5;241m.\u001B[39mcommit()\n",
      "\u001B[1;31mDuplicateTable\u001B[0m: relation \"month_index\" already exists\n"
     ]
    }
   ],
   "source": [
    "# b+ index\n",
    "bPlus_idx = 'CREATE INDEX month_index ON dimdate USING btree (month);'\n",
    "cursor.execute(bPlus_idx)\n",
    "connection.commit()"
   ],
   "metadata": {
    "collapsed": false,
    "ExecuteTime": {
     "end_time": "2023-05-26T16:56:17.012407Z",
     "start_time": "2023-05-26T16:56:15.487010300Z"
    }
   }
  },
  {
   "cell_type": "code",
   "execution_count": 20,
   "outputs": [],
   "source": [
    "# hash index\n",
    "connection.rollback()\n",
    "column_names_query = \"SELECT column_name FROM information_schema.columns WHERE table_name = 'dimamenities' AND table_schema = 'public';\"\n",
    "cursor.execute(column_names_query)\n",
    "result = list(cursor.fetchall())\n",
    "col_names_list = [item for tuple in result for item in tuple]\n",
    "\n",
    "for col in col_names_list:\n",
    "    idx = col + '_index'\n",
    "    col_idx = f\"CREATE INDEX {idx} ON dimamenities USING hash ({col});\"\n",
    "    cursor.execute(col_idx)\n",
    "    connection.commit()"
   ],
   "metadata": {
    "collapsed": false,
    "ExecuteTime": {
     "end_time": "2023-05-26T17:38:33.403721300Z",
     "start_time": "2023-05-26T17:38:30.937584Z"
    }
   }
  },
  {
   "cell_type": "code",
   "execution_count": null,
   "outputs": [],
   "source": [],
   "metadata": {
    "collapsed": false
   }
  }
 ],
 "metadata": {
  "kernelspec": {
   "display_name": "Python 3",
   "language": "python",
   "name": "python3"
  },
  "language_info": {
   "codemirror_mode": {
    "name": "ipython",
    "version": 3
   },
   "file_extension": ".py",
   "mimetype": "text/x-python",
   "name": "python",
   "nbconvert_exporter": "python",
   "pygments_lexer": "ipython3",
   "version": "3.10.1"
  },
  "orig_nbformat": 4
 },
 "nbformat": 4,
 "nbformat_minor": 2
}
